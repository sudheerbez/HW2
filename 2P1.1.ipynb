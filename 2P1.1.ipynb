{
 "cells": [
  {
   "cell_type": "code",
   "execution_count": 1,
   "id": "66717b0c",
   "metadata": {},
   "outputs": [],
   "source": [
    "def fib1(n: int) -> int:\n",
    "    if n <= 0:\n",
    "        return 0\n",
    "    elif n == 1:\n",
    "        return 1\n",
    "    else:\n",
    "        return fib1(n - 1) + fib1(n - 2)"
   ]
  },
  {
   "cell_type": "code",
   "execution_count": 2,
   "id": "d35ce1aa",
   "metadata": {},
   "outputs": [
    {
     "name": "stdout",
     "output_type": "stream",
     "text": [
      "8\n"
     ]
    }
   ],
   "source": [
    "print(fib1(6))"
   ]
  },
  {
   "cell_type": "code",
   "execution_count": 3,
   "id": "cbd8867e",
   "metadata": {},
   "outputs": [
    {
     "name": "stdout",
     "output_type": "stream",
     "text": [
      "5\n"
     ]
    }
   ],
   "source": [
    "def fib1(n: int) -> int:\n",
    "    if n <= 0:\n",
    "        return 0\n",
    "    elif n == 1:\n",
    "        return 1\n",
    "    \n",
    "    prev_1 = 0\n",
    "    prev_2 = 1\n",
    "    fib = 0\n",
    "    \n",
    "    for _ in range(2, n + 1):\n",
    "        fib = prev_1 + prev_2\n",
    "        prev_1, prev_2 = prev_2, fib\n",
    "    \n",
    "    return fib\n",
    "\n",
    "if __name__ == \"__main__\":\n",
    "    print(fib1(5))"
   ]
  },
  {
   "cell_type": "code",
   "execution_count": 4,
   "id": "70d2004b",
   "metadata": {},
   "outputs": [
    {
     "name": "stdout",
     "output_type": "stream",
     "text": [
      "5\n",
      "55\n"
     ]
    }
   ],
   "source": [
    "def fib2(n: int) -> int:\n",
    "    if n < 2:  # base case\n",
    "        return n\n",
    "    return fib2(n - 2) + fib2(n - 1)  # recursive case\n",
    "def fib2(n: int) -> int:\n",
    "    if n < 2:  # base case\n",
    "        return n\n",
    "    return fib2(n - 2) + fib2(n - 1)  # recursive case\n",
    "\n",
    "if __name__ == \"__main__\":\n",
    "    print(fib2(5))  # Output: 5\n",
    "    print(fib2(10))  # Output: 55"
   ]
  },
  {
   "cell_type": "code",
   "execution_count": 5,
   "id": "5d654aec",
   "metadata": {},
   "outputs": [
    {
     "name": "stdout",
     "output_type": "stream",
     "text": [
      "5\n",
      "55\n"
     ]
    }
   ],
   "source": [
    "def fib2(n: int) -> int:\n",
    "    if n < 2:  # base case\n",
    "        return n\n",
    "    return fib2(n - 2) + fib2(n - 1)  # recursive case\n",
    "def fib2(n: int) -> int:\n",
    "    if n < 2:  # base case\n",
    "        return n\n",
    "    return fib2(n - 2) + fib2(n - 1)  # recursive case\n",
    "\n",
    "if __name__ == \"__main__\":\n",
    "    print(fib2(5))  # Output: 5\n",
    "    print(fib2(10))  # Output: 55"
   ]
  },
  {
   "cell_type": "code",
   "execution_count": 6,
   "id": "5565c7ca",
   "metadata": {},
   "outputs": [
    {
     "name": "stdout",
     "output_type": "stream",
     "text": [
      "5\n",
      "12586269025\n"
     ]
    }
   ],
   "source": [
    "from typing import Dict\n",
    "\n",
    "memo: Dict[int, int] = {0: 0, 1: 1}  # base cases\n",
    "\n",
    "def fib3(n: int) -> int:\n",
    "    if n not in memo:\n",
    "        memo[n] = fib3(n - 1) + fib3(n - 2)  # memoization\n",
    "    return memo[n]\n",
    "\n",
    "if __name__ == \"__main__\":\n",
    "    print(fib3(5))  # Output: 5\n",
    "    print(fib3(50))  # Output: 12586269025"
   ]
  },
  {
   "cell_type": "code",
   "execution_count": 8,
   "id": "c8fdb190",
   "metadata": {},
   "outputs": [
    {
     "name": "stdout",
     "output_type": "stream",
     "text": [
      "5\n",
      "12586269025\n"
     ]
    }
   ],
   "source": [
    "def fib5(n: int) -> int:\n",
    "    if n == 0:\n",
    "        return n  # special case\n",
    "    last: int = 0  # initially set to fib(0)\n",
    "    next: int = 1  # initially set to fib(1)\n",
    "    for _ in range(1, n):\n",
    "        last, next = next, last + next\n",
    "    return next\n",
    "\n",
    "if __name__ == \"__main__\":\n",
    "    print(fib5(5))  # Output: 5\n",
    "    print(fib5(50))  # Output: 12586269025"
   ]
  },
  {
   "cell_type": "code",
   "execution_count": 9,
   "id": "dc13cdb6",
   "metadata": {},
   "outputs": [
    {
     "name": "stdout",
     "output_type": "stream",
     "text": [
      "0\n",
      "1\n",
      "1\n",
      "2\n",
      "3\n",
      "5\n",
      "8\n",
      "13\n",
      "21\n",
      "34\n",
      "55\n",
      "89\n",
      "144\n",
      "233\n",
      "377\n",
      "610\n",
      "987\n",
      "1597\n",
      "2584\n",
      "4181\n",
      "6765\n",
      "10946\n",
      "17711\n",
      "28657\n",
      "46368\n",
      "75025\n",
      "121393\n",
      "196418\n",
      "317811\n",
      "514229\n",
      "832040\n",
      "1346269\n",
      "2178309\n",
      "3524578\n",
      "5702887\n",
      "9227465\n",
      "14930352\n",
      "24157817\n",
      "39088169\n",
      "63245986\n",
      "102334155\n",
      "165580141\n",
      "267914296\n",
      "433494437\n",
      "701408733\n",
      "1134903170\n",
      "1836311903\n",
      "2971215073\n",
      "4807526976\n",
      "7778742049\n",
      "12586269025\n"
     ]
    }
   ],
   "source": [
    "from typing import Generator\n",
    "\n",
    "def fib6(n: int) -> Generator[int, None, None]:\n",
    "    yield 0  # special case\n",
    "    if n > 0: yield 1  # special case\n",
    "    last: int = 0  # initially set to fib(0)\n",
    "    next: int = 1  # initially set to fib(1)\n",
    "    for _ in range(1, n):\n",
    "        last, next = next, last + next\n",
    "        yield next  # main generation step\n",
    "\n",
    "if __name__ == \"__main__\":\n",
    "    for i in fib6(50):\n",
    "        print(i)"
   ]
  },
  {
   "cell_type": "code",
   "execution_count": null,
   "id": "5a0f698b",
   "metadata": {},
   "outputs": [],
   "source": []
  }
 ],
 "metadata": {
  "kernelspec": {
   "display_name": "Python 3 (ipykernel)",
   "language": "python",
   "name": "python3"
  },
  "language_info": {
   "codemirror_mode": {
    "name": "ipython",
    "version": 3
   },
   "file_extension": ".py",
   "mimetype": "text/x-python",
   "name": "python",
   "nbconvert_exporter": "python",
   "pygments_lexer": "ipython3",
   "version": "3.10.9"
  }
 },
 "nbformat": 4,
 "nbformat_minor": 5
}
