{
 "cells": [
  {
   "cell_type": "code",
   "execution_count": 5,
   "id": "11a8f54e",
   "metadata": {},
   "outputs": [
    {
     "name": "stdout",
     "output_type": "stream",
     "text": [
      "Reverse Guess-the-Number Game\n",
      "Think of a number and let me guess it!\n",
      "Enter the smaller number: 7\n",
      "Enter the larger number: 8\n",
      "Is your number 7?\n",
      "Enter =, <, or >: <\n",
      "You're cheating! The number of incorrect guesses reached the maximum.\n"
     ]
    }
   ],
   "source": [
    "import math\n",
    "\n",
    "def reverse_guess_number():\n",
    "    print(\"Reverse Guess-the-Number Game\")\n",
    "    print(\"Think of a number and let me guess it!\")\n",
    "    \n",
    "    lower_bound = int(input(\"Enter the smaller number: \"))\n",
    "    upper_bound = int(input(\"Enter the larger number: \"))\n",
    "    max_guesses = math.ceil(math.log2(upper_bound - lower_bound + 1))\n",
    "    num_guesses = 0\n",
    "    \n",
    "    while True:\n",
    "        guess = (lower_bound + upper_bound) // 2\n",
    "        print(f\"Is your number {guess}?\")\n",
    "        \n",
    "        response = input(\"Enter =, <, or >: \")\n",
    "        num_guesses += 1\n",
    "        \n",
    "        if response == '=':\n",
    "            print(f\"Hooray, I've got it in {num_guesses} tries!\")\n",
    "            break\n",
    "        elif response == '<':\n",
    "            upper_bound = guess - 1\n",
    "        elif response == '>':\n",
    "            lower_bound = guess + 1\n",
    "        else:\n",
    "            print(\"Invalid response. Please enter =, <, or >.\")\n",
    "        \n",
    "        if num_guesses == max_guesses:\n",
    "            print(\"You're cheating! The number of incorrect guesses reached the maximum.\")\n",
    "            break\n",
    "\n",
    "if __name__ == '__main__':\n",
    "    reverse_guess_number()\n"
   ]
  },
  {
   "cell_type": "code",
   "execution_count": null,
   "id": "b580c73e",
   "metadata": {},
   "outputs": [],
   "source": []
  }
 ],
 "metadata": {
  "kernelspec": {
   "display_name": "Python 3 (ipykernel)",
   "language": "python",
   "name": "python3"
  },
  "language_info": {
   "codemirror_mode": {
    "name": "ipython",
    "version": 3
   },
   "file_extension": ".py",
   "mimetype": "text/x-python",
   "name": "python",
   "nbconvert_exporter": "python",
   "pygments_lexer": "ipython3",
   "version": "3.10.9"
  }
 },
 "nbformat": 4,
 "nbformat_minor": 5
}
