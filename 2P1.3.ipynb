{
 "cells": [
  {
   "cell_type": "code",
   "execution_count": 1,
   "id": "88af562b",
   "metadata": {},
   "outputs": [
    {
     "name": "stdout",
     "output_type": "stream",
     "text": [
      "One Time Pad!\n"
     ]
    }
   ],
   "source": [
    "from secrets import token_bytes\n",
    "from typing import Tuple\n",
    "\n",
    "def random_key(length: int) -> int:\n",
    "    # generate length random bytes\n",
    "    tb: bytes = token_bytes(length)\n",
    "    # convert those bytes into a bit string and return it\n",
    "    return int.from_bytes(tb, \"big\")\n",
    "from secrets import token_bytes\n",
    "from typing import Tuple\n",
    "\n",
    "def random_key(length: int) -> int:\n",
    "    # generate length random bytes\n",
    "    tb: bytes = token_bytes(length)\n",
    "    # convert those bytes into a bit string and return it\n",
    "    return int.from_bytes(tb, \"big\")\n",
    "\n",
    "def encrypt(original: str) -> Tuple[int, int]:\n",
    "    original_bytes: bytes = original.encode()\n",
    "    dummy: int = random_key(len(original_bytes))\n",
    "    original_key: int = int.from_bytes(original_bytes, \"big\")\n",
    "    encrypted: int = original_key ^ dummy  # XOR\n",
    "    return dummy, encrypted\n",
    "def decrypt(key1: int, key2: int) -> str:\n",
    "    decrypted: int = key1 ^ key2  # XOR\n",
    "    temp: bytes = decrypted.to_bytes((decrypted.bit_length() + 7) // 8, \"big\")\n",
    "    return temp.decode()\n",
    "if __name__ == \"__main__\":\n",
    "    key1, key2 = encrypt(\"One Time Pad!\")\n",
    "    result: str = decrypt(key1, key2)\n",
    "    print(result)"
   ]
  },
  {
   "cell_type": "code",
   "execution_count": null,
   "id": "63264d39",
   "metadata": {},
   "outputs": [],
   "source": []
  }
 ],
 "metadata": {
  "kernelspec": {
   "display_name": "Python 3 (ipykernel)",
   "language": "python",
   "name": "python3"
  },
  "language_info": {
   "codemirror_mode": {
    "name": "ipython",
    "version": 3
   },
   "file_extension": ".py",
   "mimetype": "text/x-python",
   "name": "python",
   "nbconvert_exporter": "python",
   "pygments_lexer": "ipython3",
   "version": "3.10.9"
  }
 },
 "nbformat": 4,
 "nbformat_minor": 5
}
