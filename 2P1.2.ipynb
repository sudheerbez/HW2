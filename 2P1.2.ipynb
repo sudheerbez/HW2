{
 "cells": [
  {
   "cell_type": "code",
   "execution_count": 1,
   "id": "abafcdb7",
   "metadata": {},
   "outputs": [
    {
     "name": "stdout",
     "output_type": "stream",
     "text": [
      "ATCGGCTA\n"
     ]
    }
   ],
   "source": [
    "class CompressedGene:\n",
    "    def __init__(self, gene: str) -> None:\n",
    "        self._compress(gene)\n",
    "class CompressedGene:\n",
    "    def __init__(self, gene: str) -> None:\n",
    "        self._compress(gene)\n",
    "\n",
    "    def _compress(self, gene: str) -> None:\n",
    "        # Implementation of gene compression goes here\n",
    "        pass\n",
    "\n",
    "if __name__ == \"__main__\":\n",
    "    gene = \"ATCGGCTA\"\n",
    "    compressed_gene = CompressedGene(gene)\n",
    "class CompressedGene:\n",
    "    def __init__(self, gene: str) -> None:\n",
    "        self._compress(gene)\n",
    "\n",
    "    def _compress(self, gene: str) -> None:\n",
    "        self.bit_string: int = 1  # start with sentinel\n",
    "        for nucleotide in gene.upper():\n",
    "            self.bit_string <<= 2  # shift left two bits\n",
    "            if nucleotide == \"A\":  # change last two bits to 00\n",
    "                self.bit_string |= 0b00\n",
    "            elif nucleotide == \"C\":  # change last two bits to 01\n",
    "                self.bit_string |= 0b01\n",
    "            elif nucleotide == \"G\":  # change last two bits to 10\n",
    "                self.bit_string |= 0b10\n",
    "            elif nucleotide == \"T\":  # change last two bits to 11\n",
    "                self.bit_string |= 0b11\n",
    "            else:\n",
    "                raise ValueError(\"Invalid Nucleotide: {}\".format(nucleotide))\n",
    "\n",
    "if __name__ == \"__main__\":\n",
    "    gene = \"ATCGGCTA\"\n",
    "    compressed_gene = CompressedGene(gene)\n",
    "class CompressedGene:\n",
    "    def __init__(self, gene: str) -> None:\n",
    "        self._compress(gene)\n",
    "\n",
    "    def _compress(self, gene: str) -> None:\n",
    "        self.bit_string: int = 1  # start with sentinel\n",
    "        for nucleotide in gene.upper():\n",
    "            self.bit_string <<= 2  # shift left two bits\n",
    "            if nucleotide == \"A\":  # change last two bits to 00\n",
    "                self.bit_string |= 0b00\n",
    "            elif nucleotide == \"C\":  # change last two bits to 01\n",
    "                self.bit_string |= 0b01\n",
    "            elif nucleotide == \"G\":  # change last two bits to 10\n",
    "                self.bit_string |= 0b10\n",
    "            elif nucleotide == \"T\":  # change last two bits to 11\n",
    "                self.bit_string |= 0b11\n",
    "            else:\n",
    "                raise ValueError(\"Invalid Nucleotide: {}\".format(nucleotide))\n",
    "\n",
    "    def decompress(self) -> str:\n",
    "        gene: str = \"\"\n",
    "        for i in range(0, self.bit_string.bit_length() - 1, 2):  # - 1 to exclude sentinel\n",
    "            bits: int = self.bit_string >> i & 0b11  # get just 2 relevant bits\n",
    "            if bits == 0b00:  # A\n",
    "                gene += \"A\"\n",
    "            elif bits == 0b01:  # C\n",
    "                gene += \"C\"\n",
    "            elif bits == 0b10:  # G\n",
    "                gene += \"G\"\n",
    "            elif bits == 0b11:  # T\n",
    "                gene += \"T\"\n",
    "            else:\n",
    "                raise ValueError(\"Invalid bits: {}\".format(bits))\n",
    "        return gene[::-1]  # [::-1] reverses string by slicing backward\n",
    "\n",
    "    def __str__(self) -> str:  # string representation for pretty printing\n",
    "        return self.decompress()\n",
    "\n",
    "if __name__ == \"__main__\":\n",
    "    gene = \"ATCGGCTA\"\n",
    "    compressed_gene = CompressedGene(gene)\n",
    "    print(compressed_gene)"
   ]
  },
  {
   "cell_type": "code",
   "execution_count": 2,
   "id": "d9848722",
   "metadata": {},
   "outputs": [
    {
     "name": "stdout",
     "output_type": "stream",
     "text": [
      "original is 120 bytes\n",
      "compressed is 44 bytes\n",
      "TAGGGATTAACCGTTATATATATATAGCCATGGATCGATTATATAGGGATTAACCGTTATATATATATAGC\n",
      "original and decompressed are the same: True\n",
      "TAGGGATTAACCGTTATATATATATAGCCATGGATCGATTATATAGGGATTAACCGTTATATATATATAGC\n",
      "original and decompressed are the same: True\n"
     ]
    }
   ],
   "source": [
    "if __name__ == \"__main__\":\n",
    "    from sys import getsizeof\n",
    "original = \"TAGGGATTAACCGTTATATATATATAGCCATGGATCGATTATATAGGGATTAACCGTTATATATATATAGC\"\n",
    "compressed = CompressedGene(original)  # compress\n",
    "print(\"original is {} bytes\".format(getsizeof(original)))\n",
    "print(\"compressed is {} bytes\".format(getsizeof(compressed.bit_string)))\n",
    "print(compressed.decompress())\n",
    "print(\"original and decompressed are the same:\", original == compressed.decompress())\n",
    "\n",
    "print(compressed)  # decompress\n",
    "print(\"original and decompressed are the same: {}\".format(original ==\n",
    "     compressed.decompress()))"
   ]
  },
  {
   "cell_type": "code",
   "execution_count": 3,
   "id": "629e45a6",
   "metadata": {},
   "outputs": [
    {
     "name": "stdout",
     "output_type": "stream",
     "text": [
      "original is 120 bytes\n",
      "compressed is 48 bytes\n",
      "TAGGGATTAACCGTTATATATATATAGCCATGGATCGATTATATAGGGATTAACCGTTATATATATATAGC\n",
      "original and decompressed are the same: True\n"
     ]
    }
   ],
   "source": [
    "import sys\n",
    "\n",
    "original = \"TAGGGATTAACCGTTATATATATATAGCCATGGATCGATTATATAGGGATTAACCGTTATATATATATAGC\"\n",
    "compressed = CompressedGene(original)  # compress\n",
    "\n",
    "print(\"original is {} bytes\".format(sys.getsizeof(original)))\n",
    "print(\"compressed is {} bytes\".format(sys.getsizeof(compressed)))\n",
    "print(\"TAGGGATTAACCGTTATATATATATAGCCATGGATCGATTATATAGGGATTAACCGTTATATATATATAGC\")\n",
    "print(\"original and decompressed are the same:\", original == compressed.decompress())"
   ]
  },
  {
   "cell_type": "code",
   "execution_count": null,
   "id": "22ea7802",
   "metadata": {},
   "outputs": [],
   "source": []
  }
 ],
 "metadata": {
  "kernelspec": {
   "display_name": "Python 3 (ipykernel)",
   "language": "python",
   "name": "python3"
  },
  "language_info": {
   "codemirror_mode": {
    "name": "ipython",
    "version": 3
   },
   "file_extension": ".py",
   "mimetype": "text/x-python",
   "name": "python",
   "nbconvert_exporter": "python",
   "pygments_lexer": "ipython3",
   "version": "3.10.9"
  }
 },
 "nbformat": 4,
 "nbformat_minor": 5
}
