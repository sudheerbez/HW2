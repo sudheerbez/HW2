{
 "cells": [
  {
   "cell_type": "code",
   "execution_count": 8,
   "id": "f9aeba22",
   "metadata": {},
   "outputs": [
    {
     "name": "stdout",
     "output_type": "stream",
     "text": [
      "Student's Name: R ram\n",
      "Number of Scores: 3\n",
      "Highest Score: 100\n",
      "Average Score: 88.33333333333333\n",
      "\n",
      "Student Details:\n",
      "Name: R ram\n",
      "Score 1: 88\n",
      "Score 2: 77\n",
      "Score 3: 100\n",
      "\n"
     ]
    }
   ],
   "source": [
    "class Student:\n",
    "    def __init__(self, name, num_scores):\n",
    "        self.name = name\n",
    "        self.scores = [0] * num_scores\n",
    "\n",
    "    def get_name(self):\n",
    "        return self.name\n",
    "\n",
    "    def get_scores(self):\n",
    "        return self.scores\n",
    "\n",
    "    def get_score(self, position):\n",
    "        return self.scores[position]\n",
    "\n",
    "    def set_score(self, position, score):\n",
    "        self.scores[position] = score\n",
    "\n",
    "    def get_num_scores(self):\n",
    "        return len(self.scores)\n",
    "\n",
    "    def get_highest_score(self):\n",
    "        return max(self.scores)\n",
    "\n",
    "    def get_average_score(self):\n",
    "        return sum(self.scores) / len(self.scores)\n",
    "\n",
    "    def __str__(self):\n",
    "        result = f\"Name: {self.name}\\n\"\n",
    "        for i, score in enumerate(self.scores, start=1):\n",
    "            result += f\"Score {i}: {score}\\n\"\n",
    "        return result\n",
    "\n",
    "def test_student():\n",
    "    student = Student(\"R ram\", 3)\n",
    "    student.set_score(0, 88)\n",
    "    student.set_score(1, 77)\n",
    "    student.set_score(2, 100)\n",
    "\n",
    "    print(\"Student's Name:\", student.get_name())\n",
    "    print(\"Number of Scores:\", student.get_num_scores())\n",
    "    print(\"Highest Score:\", student.get_highest_score())\n",
    "    print(\"Average Score:\", student.get_average_score())\n",
    "    print(\"\\nStudent Details:\")\n",
    "    print(student)\n",
    "\n",
    "if __name__ == '__main__':\n",
    "    test_student()\n"
   ]
  },
  {
   "cell_type": "code",
   "execution_count": null,
   "id": "ef4b3c56",
   "metadata": {},
   "outputs": [],
   "source": []
  }
 ],
 "metadata": {
  "kernelspec": {
   "display_name": "Python 3 (ipykernel)",
   "language": "python",
   "name": "python3"
  },
  "language_info": {
   "codemirror_mode": {
    "name": "ipython",
    "version": 3
   },
   "file_extension": ".py",
   "mimetype": "text/x-python",
   "name": "python",
   "nbconvert_exporter": "python",
   "pygments_lexer": "ipython3",
   "version": "3.10.9"
  }
 },
 "nbformat": 4,
 "nbformat_minor": 5
}
