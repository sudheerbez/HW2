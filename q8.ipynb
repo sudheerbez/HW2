{
 "cells": [
  {
   "cell_type": "code",
   "execution_count": 1,
   "id": "7aaaa806",
   "metadata": {},
   "outputs": [
    {
     "name": "stdout",
     "output_type": "stream",
     "text": [
      "Enter the filename (or 'q' to quit): sudheer\n",
      "File not found.\n",
      "Enter the filename (or 'q' to quit): q\n"
     ]
    }
   ],
   "source": [
    "def read_file(filename):\n",
    "    try:\n",
    "        with open(filename, 'r') as file:\n",
    "            lines = file.readlines()\n",
    "            return lines\n",
    "    except FileNotFoundError:\n",
    "        print(\"File not found.\")\n",
    "        return []\n",
    "\n",
    "def navigate_file():\n",
    "    while True:\n",
    "        filename = input(\"Enter the filename (or 'q' to quit): \")\n",
    "        \n",
    "        if filename == 'q':\n",
    "            break\n",
    "\n",
    "        lines = read_file(filename)\n",
    "\n",
    "        if not lines:\n",
    "            continue\n",
    "\n",
    "        line_count = len(lines)\n",
    "\n",
    "        while True:\n",
    "            print(\"Number of lines in the file:\", line_count)\n",
    "            line_number = input(\"Enter a line number (or 'q' to go back): \")\n",
    "\n",
    "            if line_number == 'q':\n",
    "                break\n",
    "\n",
    "            try:\n",
    "                line_number = int(line_number)\n",
    "                if 1 <= line_number <= line_count:\n",
    "                    line = lines[line_number - 1]\n",
    "                    print(\"Line {}: {}\".format(line_number, line))\n",
    "                else:\n",
    "                    print(\"Invalid line number. Please try again.\")\n",
    "            except ValueError:\n",
    "                print(\"Invalid input. Please enter a line number or 'q' to go back.\")\n",
    "\n",
    "navigate_file()\n"
   ]
  },
  {
   "cell_type": "code",
   "execution_count": null,
   "id": "4f629de0",
   "metadata": {},
   "outputs": [],
   "source": []
  }
 ],
 "metadata": {
  "kernelspec": {
   "display_name": "Python 3 (ipykernel)",
   "language": "python",
   "name": "python3"
  },
  "language_info": {
   "codemirror_mode": {
    "name": "ipython",
    "version": 3
   },
   "file_extension": ".py",
   "mimetype": "text/x-python",
   "name": "python",
   "nbconvert_exporter": "python",
   "pygments_lexer": "ipython3",
   "version": "3.10.9"
  }
 },
 "nbformat": 4,
 "nbformat_minor": 5
}
